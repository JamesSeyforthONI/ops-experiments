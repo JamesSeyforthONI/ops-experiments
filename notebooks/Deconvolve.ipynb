{
 "cells": [
  {
   "cell_type": "markdown",
   "metadata": {},
   "source": [
    "Note: need to start viewer with\n",
    "```\n",
    "jupyter notebook --NotebookApp.iopub_data_rate_limit=1.0e10\n",
    "```\n",
    "To avoid visualization data rate error [see this issue](--NotebookApp.iopub_data_rate_limit=1.0e10)"
   ]
  },
  {
   "cell_type": "code",
   "execution_count": 1,
   "metadata": {
    "collapsed": true
   },
   "outputs": [],
   "source": [
    "from itkwidgets import view\n",
    "import itk\n",
    "import numpy as np\n",
    "import time"
   ]
  },
  {
   "cell_type": "markdown",
   "metadata": {},
   "source": [
    "Note: It seems I have to import and initialize imagej before importing imglyb, in order to have paths set up properly"
   ]
  },
  {
   "cell_type": "code",
   "execution_count": 2,
   "metadata": {},
   "outputs": [
    {
     "name": "stdout",
     "output_type": "stream",
     "text": [
      "Added 362 JARs to the Java classpath.\n"
     ]
    }
   ],
   "source": [
    "fiji_path='/home/bnorthan/fiji/Fiji.app'\n",
    "import imagej\n",
    "ij = imagej.init(fiji_path)"
   ]
  },
  {
   "cell_type": "code",
   "execution_count": 3,
   "metadata": {
    "collapsed": true
   },
   "outputs": [],
   "source": [
    "import imglyb"
   ]
  },
  {
   "cell_type": "markdown",
   "metadata": {},
   "source": [
    "Import java classes"
   ]
  },
  {
   "cell_type": "code",
   "execution_count": 4,
   "metadata": {
    "collapsed": true
   },
   "outputs": [],
   "source": [
    "from jnius import autoclass\n",
    "Views = autoclass( 'net.imglib2.view.Views' )\n",
    "YacuDecuComputer = autoclass('net.imagej.ops.experiments.filter.deconvolve.UnaryComputerYacuDecuNC')\n",
    "CudaDeconvolutionUtility = autoclass('net.imagej.ops.experiments.filter.deconvolve.CudaDeconvolutionUtility')\n",
    "FloatType=autoclass('net.imglib2.type.numeric.real.FloatType')"
   ]
  },
  {
   "cell_type": "code",
   "execution_count": 5,
   "metadata": {
    "collapsed": true
   },
   "outputs": [],
   "source": [
    "img_name=\"../images/Bars-G10-P15-stack-cropped.tif\"\n",
    "psf_name=\"../images/PSF-Bars-stack-cropped-64.tif\""
   ]
  },
  {
   "cell_type": "markdown",
   "metadata": {},
   "source": [
    "Load the image using itk"
   ]
  },
  {
   "cell_type": "code",
   "execution_count": 6,
   "metadata": {
    "collapsed": true
   },
   "outputs": [],
   "source": [
    "img_itk = itk.imread(img_name, pixelType=itk.ctype('float'))\n",
    "img_arr = itk.GetArrayViewFromImage(img_itk)\n",
    "img_imglyb = imglyb.to_imglib(img_arr)"
   ]
  },
  {
   "cell_type": "markdown",
   "metadata": {},
   "source": [
    "Load the image using IJ"
   ]
  },
  {
   "cell_type": "code",
   "execution_count": 7,
   "metadata": {
    "collapsed": true
   },
   "outputs": [],
   "source": [
    "img_ij = ij.dataset().open(img_name).getImgPlus().getImg();\n",
    "\n",
    "# fails with Invalid instance of 'net/imglib2/img/Img' passed for a 'net/imglib2/type/numeric/ComplexType'\n",
    "#img_ij = ij.op().convert().float32(img_ij)\n",
    "\n",
    "# so have to convert to iterable using Views\n",
    "img_ij = ij.op().convert().float32(Views.iterable(img_ij))"
   ]
  },
  {
   "cell_type": "markdown",
   "metadata": {},
   "source": [
    "Load PSF using itk and normalize to unit energy"
   ]
  },
  {
   "cell_type": "code",
   "execution_count": 8,
   "metadata": {
    "collapsed": true
   },
   "outputs": [],
   "source": [
    "psf_itk = itk.imread(psf_name, pixelType=itk.ctype('float'))\n",
    "psf_arr = itk.GetArrayViewFromImage(img_itk)\n",
    "psf_arr = psf_arr/np.sum(psf_arr)\n",
    "psf_imglyb = imglyb.to_imglib(psf_arr)"
   ]
  },
  {
   "cell_type": "markdown",
   "metadata": {},
   "source": [
    "Load PSF using ij and normalize to unit energy"
   ]
  },
  {
   "cell_type": "code",
   "execution_count": 9,
   "metadata": {},
   "outputs": [
    {
     "data": {
      "text/plain": [
       "<net.imglib2.IterableInterval at 0x7f194c09b570 jclass=net/imglib2/IterableInterval jself=<LocalRef obj=0x55dcf6d6b360 at 0x7f194caa8730>>"
      ]
     },
     "execution_count": 9,
     "metadata": {},
     "output_type": "execute_result"
    }
   ],
   "source": [
    "psf_ij = ij.dataset().open(psf_name).getImgPlus().getImg();\n",
    "psf_ij = ij.op().convert().float32(Views.iterable(psf_ij))\n",
    "\n",
    "# fails with JVM exception occurred: java.lang.ClassCastException\n",
    "#ij.op().math().divide(Views.iterable(psf_ij), Views.iterable(psf_ij), ij.op().stats().sum(psf_ij))\n",
    "\n",
    "# fails with No methods matching your arguments\n",
    "#ij.op().math().divide(Views.iterable(psf_ij), Views.iterable(psf_ij), ij.op().stats().sum(psf_ij).getRealFloat())\n",
    "\n",
    "# so have to go write a few lines of code to divide the image by sum\n",
    "psf_sum = ij.op().stats().sum(psf_ij).getRealFloat()\n",
    "psf_sum_float_type = FloatType()\n",
    "psf_sum_float_type.setReal(psf_sum)\n",
    "ij.op().math().divide(Views.iterable(psf_ij), Views.iterable(psf_ij), psf_sum_float_type)"
   ]
  },
  {
   "cell_type": "markdown",
   "metadata": {},
   "source": [
    "Deconvolve using Yacu Decu GPU deconvolution Op.  Note:  It seems [jnius has trouble with variable number of inputs](https://github.com/kivy/pyjnius/issues/225).  So I had to wrap the op in a utility. "
   ]
  },
  {
   "cell_type": "code",
   "execution_count": 10,
   "metadata": {},
   "outputs": [
    {
     "name": "stdout",
     "output_type": "stream",
     "text": [
      "<class 'jnius.reflect.net.imglib2.img.Img'>\n"
     ]
    }
   ],
   "source": [
    "out_ij = ij.op().create().img(img_ij)\n",
    "print(type(out_ij))\n",
    "\n",
    "#ij.op().run(\"UnaryComputerYacuDecuNC\",img_ij, out_ij, psf_ij, 100)\n",
    "#ij.op().run(YacuDecuComputer.getClass(),img_ij, out_ij, psf_ij, 100)\n"
   ]
  },
  {
   "cell_type": "markdown",
   "metadata": {},
   "source": [
    "First call GPU deconvolution using ```img_imglyb``` and ```psf_imglyb```"
   ]
  },
  {
   "cell_type": "code",
   "execution_count": 12,
   "metadata": {},
   "outputs": [
    {
     "name": "stdout",
     "output_type": "stream",
     "text": [
      "GPU deconvolution took 23.36573576927185 seconds\n"
     ]
    }
   ],
   "source": [
    "img_arr = itk.GetArrayViewFromImage(img_itk)\n",
    "deconvolved=np.zeros(img_arr.shape, dtype=np.float32)\n",
    "start=time.time()\n",
    "CudaDeconvolutionUtility.callYacuDecu(ij.op(),img_imglyb, psf_imglyb,imglyb.to_imglib(deconvolved), 100)\n",
    "end=time.time()\n",
    "print('GPU deconvolution took '+str(end-start)+' seconds')"
   ]
  },
  {
   "cell_type": "markdown",
   "metadata": {},
   "source": [
    "Call GPU deconvolution using ```img_ij``` and ```psf_ij``` (note it seems to be faster)"
   ]
  },
  {
   "cell_type": "code",
   "execution_count": 18,
   "metadata": {},
   "outputs": [
    {
     "name": "stdout",
     "output_type": "stream",
     "text": [
      "GPU deconvolution took 9.84008502960205 seconds\n"
     ]
    }
   ],
   "source": [
    "img_arr = itk.GetArrayViewFromImage(img_itk)\n",
    "deconvolved=np.zeros(img_arr.shape, dtype=np.float32)\n",
    "start=time.time()\n",
    "CudaDeconvolutionUtility.callYacuDecu(ij.op(),img_ij, psf_ij,imglyb.to_imglib(deconvolved), 100)\n",
    "end=time.time()\n",
    "print('GPU deconvolution took '+str(end-start)+' seconds')"
   ]
  },
  {
   "cell_type": "code",
   "execution_count": 14,
   "metadata": {},
   "outputs": [
    {
     "name": "stdout",
     "output_type": "stream",
     "text": [
      "GPU deconvolution took 9.776371002197266 seconds\n"
     ]
    }
   ],
   "source": [
    "start=time.time()\n",
    "CudaDeconvolutionUtility.callYacuDecu(ij.op(),img_ij, psf_ij, out_ij, 100)\n",
    "end=time.time()\n",
    "print('GPU deconvolution took '+str(end-start)+' seconds')"
   ]
  },
  {
   "cell_type": "markdown",
   "metadata": {},
   "source": [
    "It seems I have to normalize to 16 bit range before visualization"
   ]
  },
  {
   "cell_type": "code",
   "execution_count": 19,
   "metadata": {
    "collapsed": true
   },
   "outputs": [],
   "source": [
    "factor=2**16/np.max(deconvolved)\n",
    "deconvolved=deconvolved*factor"
   ]
  },
  {
   "cell_type": "code",
   "execution_count": 16,
   "metadata": {},
   "outputs": [
    {
     "data": {
      "application/vnd.jupyter.widget-view+json": {
       "model_id": "871dd0eabac04f4aa339163a3c2c6e79",
       "version_major": 2,
       "version_minor": 0
      },
      "text/plain": [
       "Viewer(image=<itkImagePython.itkImageF3; proxy of <Swig Object of type 'itkImageF3 *' at 0x7f194cb7bb10> >)"
      ]
     },
     "metadata": {},
     "output_type": "display_data"
    }
   ],
   "source": [
    "%matplotlib inline\n",
    "view(img_itk)"
   ]
  },
  {
   "cell_type": "code",
   "execution_count": 20,
   "metadata": {},
   "outputs": [
    {
     "data": {
      "application/vnd.jupyter.widget-view+json": {
       "model_id": "39026a07010f42468f64fccfaa30db31",
       "version_major": 2,
       "version_minor": 0
      },
      "text/plain": [
       "Viewer(image=<itkImagePython.itkImageF3; proxy of <Swig Object of type 'itkImageF3 *' at 0x7f194ca3ba50> >)"
      ]
     },
     "metadata": {},
     "output_type": "display_data"
    }
   ],
   "source": [
    "view(deconvolved)"
   ]
  },
  {
   "cell_type": "code",
   "execution_count": null,
   "metadata": {
    "collapsed": true
   },
   "outputs": [],
   "source": []
  }
 ],
 "metadata": {
  "kernelspec": {
   "display_name": "Python 3",
   "language": "python",
   "name": "python3"
  },
  "language_info": {
   "codemirror_mode": {
    "name": "ipython",
    "version": 3
   },
   "file_extension": ".py",
   "mimetype": "text/x-python",
   "name": "python",
   "nbconvert_exporter": "python",
   "pygments_lexer": "ipython3",
   "version": "3.6.3"
  }
 },
 "nbformat": 4,
 "nbformat_minor": 2
}
